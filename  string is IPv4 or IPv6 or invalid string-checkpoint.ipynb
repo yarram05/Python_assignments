{
 "cells": [
  {
   "cell_type": "code",
   "execution_count": 2,
   "id": "577644cc-2dda-4361-8d7e-4cc02e797e82",
   "metadata": {
    "tags": []
   },
   "outputs": [
    {
     "name": "stdin",
     "output_type": "stream",
     "text": [
      "Enter an IP address:  192.168.1.1\n"
     ]
    },
    {
     "name": "stdout",
     "output_type": "stream",
     "text": [
      "The given IP address is IPv4\n"
     ]
    }
   ],
   "source": [
    "import re\n",
    "\n",
    "def validate_ip(ip_str):\n",
    "    ipv4_pattern = r'^(\\d{1,3}\\.){3}\\d{1,3}$'\n",
    "    ipv6_pattern = r'^[0-9a-fA-F:]+$'\n",
    "\n",
    "    if re.match(ipv4_pattern, ip_str):\n",
    "        return \"IPv4\"\n",
    "    elif re.match(ipv6_pattern, ip_str):\n",
    "        return \"IPv6\"\n",
    "    else:\n",
    "        return \"Invalid IP\"\n",
    "\n",
    "ip_address = input(\"Enter an IP address: \")\n",
    "result = validate_ip(ip_address)\n",
    "print(f\"The given IP address is {result}\")\n"
   ]
  },
  {
   "cell_type": "code",
   "execution_count": 3,
   "id": "a5afb2f1-e6fa-445b-9d00-d48b9cc10143",
   "metadata": {
    "tags": []
   },
   "outputs": [
    {
     "name": "stdin",
     "output_type": "stream",
     "text": [
      "Enter an IP address:  2001:0db8:85a3:0000:0000:8a2e:0370:7334\n"
     ]
    },
    {
     "name": "stdout",
     "output_type": "stream",
     "text": [
      "The given IP address is IPv6\n"
     ]
    }
   ],
   "source": [
    "import re\n",
    "\n",
    "def validate_ip(ip_str):\n",
    "    ipv4_pattern = r'^(\\d{1,3}\\.){3}\\d{1,3}$'\n",
    "    ipv6_pattern = r'^[0-9a-fA-F:]+$'\n",
    "\n",
    "    if re.match(ipv4_pattern, ip_str):\n",
    "        return \"IPv4\"\n",
    "    elif re.match(ipv6_pattern, ip_str):\n",
    "        return \"IPv6\"\n",
    "    else:\n",
    "        return \"Invalid IP\"\n",
    "\n",
    "ip_address = input(\"Enter an IP address: \")\n",
    "result = validate_ip(ip_address)\n",
    "print(f\"The given IP address is {result}\")\n"
   ]
  },
  {
   "cell_type": "code",
   "execution_count": 6,
   "id": "55c1d760-6dbe-478c-bc2e-b4cffb8042c3",
   "metadata": {
    "tags": []
   },
   "outputs": [
    {
     "name": "stdin",
     "output_type": "stream",
     "text": [
      "Enter an IP address:  \"2001:0db8:85a3:0000:0000:8a2e:0370:7334\"\n"
     ]
    },
    {
     "name": "stdout",
     "output_type": "stream",
     "text": [
      "The given IP address is Invalid IP\n"
     ]
    }
   ],
   "source": [
    "import re\n",
    "\n",
    "def validate_ip(ip_str):\n",
    "    ipv4_pattern = r'^(\\d{1,3}\\.){3}\\d{1,3}$'\n",
    "    ipv6_pattern = r'^[0-9a-fA-F:]+$'\n",
    "\n",
    "    if re.match(ipv4_pattern, ip_str):\n",
    "        return \"IPv4\"\n",
    "    elif re.match(ipv6_pattern, ip_str):\n",
    "        return \"IPv6\"\n",
    "    else:\n",
    "        return \"Invalid IP\"\n",
    "\n",
    "ip_address = input(\"Enter an IP address: \")\n",
    "result = validate_ip(ip_address)\n",
    "print(f\"The given IP address is {result}\")\n"
   ]
  },
  {
   "cell_type": "code",
   "execution_count": null,
   "id": "3b803f8d-9e95-489c-bf72-493048c5182a",
   "metadata": {},
   "outputs": [],
   "source": []
  }
 ],
 "metadata": {
  "kernelspec": {
   "display_name": "Python 3 (ipykernel)",
   "language": "python",
   "name": "python3"
  },
  "language_info": {
   "codemirror_mode": {
    "name": "ipython",
    "version": 3
   },
   "file_extension": ".py",
   "mimetype": "text/x-python",
   "name": "python",
   "nbconvert_exporter": "python",
   "pygments_lexer": "ipython3",
   "version": "3.11.4"
  }
 },
 "nbformat": 4,
 "nbformat_minor": 5
}
